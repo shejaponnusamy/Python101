{
 "cells": [
  {
   "cell_type": "markdown",
   "metadata": {},
   "source": [
    "1. Python Program to Find the Largest Number in a List \n"
   ]
  },
  {
   "cell_type": "code",
   "execution_count": 1,
   "metadata": {},
   "outputs": [
    {
     "name": "stdout",
     "output_type": "stream",
     "text": [
      "Enter the list of numbers:12,34,1,0,56,88,99\n",
      "99\n"
     ]
    }
   ],
   "source": [
    "#method1:\n",
    "Number=list(eval(input(\"Enter the list of numbers:\")))\n",
    "Number.sort()\n",
    "print(Number[-1])"
   ]
  },
  {
   "cell_type": "code",
   "execution_count": 2,
   "metadata": {},
   "outputs": [
    {
     "name": "stdout",
     "output_type": "stream",
     "text": [
      "Enter the list of numbers:12,34,1,0,56,88,99\n",
      "99\n"
     ]
    }
   ],
   "source": [
    "#method2:\n",
    "Numbers=list(eval(input(\"Enter the list of numbers:\")))\n",
    "largest=0\n",
    "for i in range(0,len(Numbers)):\n",
    "    if(i==len(Numbers)-1):\n",
    "        break\n",
    "    elif(Numbers[i]>Numbers[i+1]):\n",
    "        largest=Numbers[i]\n",
    "    else:\n",
    "        largest=Numbers[i+1]\n",
    "print(largest)"
   ]
  },
  {
   "cell_type": "markdown",
   "metadata": {},
   "source": [
    "2. Python Program to Find the Second Largest Number in a List"
   ]
  },
  {
   "cell_type": "code",
   "execution_count": 3,
   "metadata": {},
   "outputs": [
    {
     "name": "stdout",
     "output_type": "stream",
     "text": [
      "Enter list numbers:45,67,8,1,90,100,112,200\n",
      "112\n"
     ]
    }
   ],
   "source": [
    "List_number=list(eval(input(\"Enter list numbers:\")))\n",
    "List_number.sort()\n",
    "print(List_number[-2])"
   ]
  },
  {
   "cell_type": "markdown",
   "metadata": {},
   "source": [
    "3. Python Program to Merge Two Lists and Sort it"
   ]
  },
  {
   "cell_type": "code",
   "execution_count": 4,
   "metadata": {},
   "outputs": [
    {
     "name": "stdout",
     "output_type": "stream",
     "text": [
      "Enter list1 numbers:23,45,67,1,2,0,67,89,34\n",
      "Enter list2 numbers:111,100,89,77,66,54\n",
      "[0, 1, 2, 23, 34, 45, 54, 66, 67, 67, 77, 89, 89, 100, 111]\n"
     ]
    }
   ],
   "source": [
    "list1=list(eval(input(\"Enter list1 numbers:\")))\n",
    "list2=list(eval(input(\"Enter list2 numbers:\")))\n",
    "list1.extend(list2)\n",
    "list1.sort()\n",
    "print(list1)"
   ]
  },
  {
   "cell_type": "markdown",
   "metadata": {},
   "source": [
    "4.Python Program to Swap the First and Last Value of a List"
   ]
  },
  {
   "cell_type": "code",
   "execution_count": 5,
   "metadata": {},
   "outputs": [
    {
     "name": "stdout",
     "output_type": "stream",
     "text": [
      "Enter lists numbers:23,45,67,100\n",
      "[100, 45, 67, 23]\n"
     ]
    }
   ],
   "source": [
    "Lists=list(eval(input(\"Enter lists numbers:\")))\n",
    "List_last=Lists[-1]\n",
    "Lists[-1]=Lists[0]\n",
    "Lists[0]=List_last\n",
    "print(Lists)  "
   ]
  }
 ],
 "metadata": {
  "kernelspec": {
   "display_name": "Python 3",
   "language": "python",
   "name": "python3"
  },
  "language_info": {
   "codemirror_mode": {
    "name": "ipython",
    "version": 3
   },
   "file_extension": ".py",
   "mimetype": "text/x-python",
   "name": "python",
   "nbconvert_exporter": "python",
   "pygments_lexer": "ipython3",
   "version": "3.8.3"
  }
 },
 "nbformat": 4,
 "nbformat_minor": 4
}
