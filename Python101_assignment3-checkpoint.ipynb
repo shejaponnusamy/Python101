{
 "cells": [
  {
   "cell_type": "code",
   "execution_count": 1,
   "metadata": {},
   "outputs": [
    {
     "data": {
      "text/plain": [
       "{'name': 'Sachin', 'age': 22, 'salary': 60000, 'location': 'New Delhi'}"
      ]
     },
     "execution_count": 1,
     "metadata": {},
     "output_type": "execute_result"
    }
   ],
   "source": [
    "#1)Rename key city to location in the following dictionary\n",
    "SkillSanta_Dict={\n",
    "    'name':'Sachin',\n",
    "    'age':22,\n",
    "    'salary':60000,\n",
    "    'city':'New Delhi'\n",
    "}\n",
    "SkillSanta_Dict['location']=SkillSanta_Dict.pop('city')\n",
    "SkillSanta_Dict"
   ]
  },
  {
   "cell_type": "code",
   "execution_count": 2,
   "metadata": {},
   "outputs": [
    {
     "name": "stdout",
     "output_type": "stream",
     "text": [
      "{11: 2, 45: 3, 8: 1, 23: 2, 89: 1}\n"
     ]
    }
   ],
   "source": [
    "#2)\n",
    "list=[11,45,8,11,23,45,23,45,89]\n",
    "m={}\n",
    "for i in range(len(list)):\n",
    "    if(list[i] not in m):\n",
    "        m[list[i]]=list.count(list[i])\n",
    "print(m)"
   ]
  },
  {
   "cell_type": "code",
   "execution_count": 3,
   "metadata": {},
   "outputs": [
    {
     "name": "stdout",
     "output_type": "stream",
     "text": [
      "unique items [87, 45, 41, 65, 94, 99]\n",
      "tuple (87, 45, 41, 65, 94, 99)\n",
      "min: 41\n",
      "max: 99\n"
     ]
    }
   ],
   "source": [
    "#3)\n",
    "sampleList=[87,45,41,65,94,41,99,94]\n",
    "sample=[]\n",
    "for i in (sampleList):\n",
    "    if(i not in sample):\n",
    "        sample.append(i)\n",
    "print('unique items',sample)\n",
    "sample=tuple(sample)\n",
    "print('tuple',sample)\n",
    "print('min:',min(sample))\n",
    "print('max:',max(sample))"
   ]
  },
  {
   "cell_type": "code",
   "execution_count": 4,
   "metadata": {},
   "outputs": [
    {
     "name": "stdout",
     "output_type": "stream",
     "text": [
      "Employee  Eddy  salary is : 50000\n",
      "Employee  Eddy  salary is : 50000\n"
     ]
    }
   ],
   "source": [
    "#4)\n",
    "def showEmployee(employee_name,salary=50000):\n",
    "    print('Employee ',employee_name,' salary is :',salary)\n",
    "showEmployee('Eddy',50000)\n",
    "showEmployee('Eddy')"
   ]
  },
  {
   "cell_type": "code",
   "execution_count": 5,
   "metadata": {},
   "outputs": [
    {
     "data": {
      "text/plain": [
       "13"
      ]
     },
     "execution_count": 5,
     "metadata": {},
     "output_type": "execute_result"
    }
   ],
   "source": [
    "#5)\n",
    "def outer_function(a,b):\n",
    "    def inner_function(a,b):\n",
    "        global c\n",
    "        c=a+b\n",
    "        return c\n",
    "    x=inner_function(a,b)\n",
    "    return c+5  \n",
    "outer_function(5,3)"
   ]
  },
  {
   "cell_type": "code",
   "execution_count": 6,
   "metadata": {},
   "outputs": [
    {
     "name": "stdout",
     "output_type": "stream",
     "text": [
      "0\n",
      "1\n",
      "1\n",
      "2\n",
      "3\n",
      "5\n",
      "8\n",
      "13\n"
     ]
    }
   ],
   "source": [
    "#6)\n",
    "def fibonacci_series(sequence_num):\n",
    "    n1,n2,count=0,1,0\n",
    "    if(sequence_num<0):\n",
    "        print(\"Give positive integer\")\n",
    "    elif(sequence_num==1):\n",
    "        print(n1)\n",
    "    elif(sequence_num>1):\n",
    "        print(n1)\n",
    "        print(n2)\n",
    "        while((sequence_num-2)>count):\n",
    "            num=n1+n2\n",
    "            print(num)\n",
    "            n1=n2\n",
    "            n2=num\n",
    "            count+=1  \n",
    "fibonacci_series(8)"
   ]
  },
  {
   "cell_type": "code",
   "execution_count": 11,
   "metadata": {},
   "outputs": [
    {
     "name": "stdout",
     "output_type": "stream",
     "text": [
      "sheja 23\n"
     ]
    }
   ],
   "source": [
    "#7)\n",
    "def displayStudent(name,age):\n",
    "    print(name,age)\n",
    "showStudent=displayStudent\n",
    "showStudent('sheja','23')"
   ]
  },
  {
   "cell_type": "code",
   "execution_count": 8,
   "metadata": {},
   "outputs": [
    {
     "name": "stdout",
     "output_type": "stream",
     "text": [
      "Enter the mobile number:1234567890\n"
     ]
    }
   ],
   "source": [
    "#8)\n",
    "input1=eval(input(\"Enter the mobile number:\"))\n",
    "if(len(str(input1))!=10 and (input1.isdigit()==True)):\n",
    "    while(len(str(input1))!=10):\n",
    "        input2=int(input(\"Enter the mobile number correctly:\"))\n",
    "        if(len(str(input2))==10):\n",
    "            break"
   ]
  },
  {
   "cell_type": "code",
   "execution_count": 9,
   "metadata": {},
   "outputs": [
    {
     "name": "stdout",
     "output_type": "stream",
     "text": [
      "No. of Uppercase characters : 3\n",
      "No. of Lowercase Characters : 13\n"
     ]
    }
   ],
   "source": [
    "#9)\n",
    "String='The quick Brown Fox'\n",
    "count=0\n",
    "c=0\n",
    "for i in String:\n",
    "    if(i.isupper()==True):\n",
    "        count+=1\n",
    "    elif(i.islower()==True):\n",
    "        c+=1\n",
    "print('No. of Uppercase characters :',count)\n",
    "print('No. of Lowercase Characters :',c)"
   ]
  },
  {
   "cell_type": "code",
   "execution_count": 10,
   "metadata": {},
   "outputs": [
    {
     "name": "stdout",
     "output_type": "stream",
     "text": [
      "1\n",
      "1 is not a perfect number\n"
     ]
    }
   ],
   "source": [
    "#10)\n",
    "input_num=int(input())\n",
    "i=1\n",
    "sample=0\n",
    "while(input_num>i):\n",
    "    if(input_num%i==0):\n",
    "        sample=sample+i\n",
    "        i+=1\n",
    "        if(input_num==sample):\n",
    "            print(input_num ,\"is a perfect number\")\n",
    "            break    \n",
    "    else:\n",
    "        i+=1\n",
    "if(sample!=input_num):\n",
    "    print(input_num,'is not a perfect number')"
   ]
  },
  {
   "cell_type": "code",
   "execution_count": null,
   "metadata": {},
   "outputs": [],
   "source": []
  }
 ],
 "metadata": {
  "kernelspec": {
   "display_name": "Python 3",
   "language": "python",
   "name": "python3"
  },
  "language_info": {
   "codemirror_mode": {
    "name": "ipython",
    "version": 3
   },
   "file_extension": ".py",
   "mimetype": "text/x-python",
   "name": "python",
   "nbconvert_exporter": "python",
   "pygments_lexer": "ipython3",
   "version": "3.8.3"
  }
 },
 "nbformat": 4,
 "nbformat_minor": 4
}
